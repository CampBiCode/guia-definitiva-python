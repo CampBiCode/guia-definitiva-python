{
 "cells": [
  {
   "cell_type": "code",
   "execution_count": null,
   "id": "6d0d59e5",
   "metadata": {},
   "outputs": [],
   "source": [
    "# importar pandas\n",
    "import pandas as pd"
   ]
  },
  {
   "cell_type": "markdown",
   "id": "28605cc1",
   "metadata": {},
   "source": [
    "# Series"
   ]
  },
  {
   "cell_type": "markdown",
   "id": "74b7b8f8",
   "metadata": {},
   "source": [
    "Es una versión potenciada de las listas.\n",
    "* Columna de datos con un indice.\n",
    "* Tipo de dato homogéneo."
   ]
  },
  {
   "cell_type": "code",
   "execution_count": null,
   "id": "19d6760c",
   "metadata": {},
   "outputs": [],
   "source": [
    "# crear series a partir de una lista\n",
    "s = pd.Series([1, 2, 3], name=\"example\")\n",
    "\n",
    "s"
   ]
  },
  {
   "cell_type": "code",
   "execution_count": null,
   "id": "9b3fc6d6",
   "metadata": {},
   "outputs": [],
   "source": [
    "# crear series a partir de un diccionario\n",
    "webster = {\"Aardvark\": \"An animal\",\n",
    "           \"Banana\" : \"A delicious fruit\",\n",
    "           \"Cyan\": \"A color\"}\n",
    "\n",
    "s = pd.Series(webster)\n",
    "\n",
    "s\n"
   ]
  },
  {
   "cell_type": "markdown",
   "id": "4e1c961d",
   "metadata": {},
   "source": [
    "Atributos de las series. Nos brindan información sobre la serie."
   ]
  },
  {
   "cell_type": "code",
   "execution_count": null,
   "id": "2d8c6017",
   "metadata": {},
   "outputs": [],
   "source": [
    "s = pd.Series([1, 2, 3], name=\"example\")\n",
    "\n",
    "print(s.index) # explica como está operando el indice\n",
    "print(s.values)"
   ]
  },
  {
   "cell_type": "markdown",
   "id": "64f33248",
   "metadata": {},
   "source": [
    "Métodos de las series. Modifican una serie."
   ]
  },
  {
   "cell_type": "code",
   "execution_count": null,
   "id": "9ffaadc1",
   "metadata": {},
   "outputs": [],
   "source": [
    "precios = [2.99, 4.45, 1.36]\n",
    "s = pd.Series(precios)\n",
    "\n",
    "s.sum() # suma\n",
    "s.product() # producto\n",
    "s.mean() # promedio\n",
    "s.max() # máximo\n",
    "s.min() # mínimo\n",
    "s.std() # desviación estándar\n",
    "s.describe() # descripción estádistica de la serie\n",
    "\n",
    "s.head(5) # acceder a primeros n valores de la serie\n",
    "s.tail(5) # acceder a últimos n valores de la serie\n",
    "len(s) # longitud de la serie\n",
    "s.sort_values(ascending = False) # ordenar valores"
   ]
  },
  {
   "cell_type": "markdown",
   "id": "5290490d",
   "metadata": {},
   "source": [
    "Métodos de series de tipo texto."
   ]
  },
  {
   "cell_type": "code",
   "execution_count": null,
   "id": "4ce5d60c",
   "metadata": {},
   "outputs": [],
   "source": [
    "nombres = [\"santiago\", \"felipe\", \"cristian\"]\n",
    "s = pd.Series(nombres)\n",
    "\n",
    "s.str.capitalize() # convertir cada inicial en mayúscula\n",
    "s.str.replace(\"a\", \"A\") # #remplazar texto\n",
    "s.str.strip() # eliminar espacios en blanco\n",
    "s.str.lower() # convertir a mayúscula\n",
    "s.str.upper() # convertir a minúscula"
   ]
  },
  {
   "cell_type": "markdown",
   "id": "067c1c69",
   "metadata": {},
   "source": [
    "Conversión a estructuras de datos base."
   ]
  },
  {
   "cell_type": "code",
   "execution_count": null,
   "id": "2c90a056",
   "metadata": {},
   "outputs": [],
   "source": [
    "precios = [2.99, 4.45, 1.36]\n",
    "s = pd.Series(precios)\n",
    "\n",
    "print(list(s))\n",
    "print(dict(s))"
   ]
  },
  {
   "cell_type": "markdown",
   "id": "65e6f69d",
   "metadata": {},
   "source": [
    "Aplicar transformaciones."
   ]
  },
  {
   "cell_type": "code",
   "execution_count": null,
   "id": "e2b5abbd",
   "metadata": {},
   "outputs": [],
   "source": [
    "precios = [2.99, 4.45, 1.36]\n",
    "s = pd.Series(precios)\n",
    "\n",
    "# reasignar la variable\n",
    "s = s.sort_values(ascending = False)\n",
    "\n",
    "# hacer modificación in-place\n",
    "s.sort_values(ascending = False, inplace = True)"
   ]
  },
  {
   "cell_type": "markdown",
   "id": "85f0d554",
   "metadata": {},
   "source": [
    "Extraer valores de una serie."
   ]
  },
  {
   "cell_type": "code",
   "execution_count": null,
   "id": "ff275df1",
   "metadata": {},
   "outputs": [],
   "source": [
    "data = [x for x in range(100)]\n",
    "s = pd.Series(data)\n",
    "\n",
    "s[:10]"
   ]
  },
  {
   "cell_type": "markdown",
   "id": "ab2fa1fe",
   "metadata": {},
   "source": [
    "Frecuencia relativa."
   ]
  },
  {
   "cell_type": "code",
   "execution_count": null,
   "id": "abc08ecd",
   "metadata": {},
   "outputs": [],
   "source": [
    "nombres = [\"santiago\", \"santiago\", \"santiago\", \"felipe\", \"sebastian\"]\n",
    "s = pd.Series(nombres)\n",
    "\n",
    "s.value_counts()"
   ]
  },
  {
   "cell_type": "markdown",
   "id": "ea29ad3f",
   "metadata": {},
   "source": [
    "Modificar series."
   ]
  },
  {
   "cell_type": "code",
   "execution_count": null,
   "id": "62d2e770",
   "metadata": {},
   "outputs": [],
   "source": [
    "from random import randint\n",
    "\n",
    "# función predefinida\n",
    "def clasificar_rendimiento(numero:int):\n",
    "    if numero < 50:\n",
    "        return \"bajo\"\n",
    "    elif numero < 80:\n",
    "        return \"medio\"\n",
    "    else:\n",
    "        return \"alto\"\n",
    "\n",
    "data = [randint(1, 100) for x in range(100)]\n",
    "s = pd.Series(data)\n",
    "\n",
    "s.apply(clasificar_rendimiento)\n",
    "\n",
    "\n",
    "# función anonima con lambda\n",
    "s.apply(lambda x:\"bajo\" if x < 50 else \"medio\" if x < 80 else \"alto\")"
   ]
  },
  {
   "cell_type": "markdown",
   "id": "ed3afcc5",
   "metadata": {},
   "source": [
    "# Dataframes"
   ]
  },
  {
   "cell_type": "markdown",
   "id": "a967bea7",
   "metadata": {},
   "source": [
    "Son un objeto que se compone de varias series. Cada serie puede ser de un tipo de dato distinto."
   ]
  },
  {
   "cell_type": "code",
   "execution_count": null,
   "id": "2569e8db",
   "metadata": {},
   "outputs": [],
   "source": [
    "s1 = pd.Series([\"Santiago\", \"Felipe\", \"Cristian\"])\n",
    "s2 = pd.Series([23, 24, 25])\n",
    "\n",
    "df = pd.DataFrame({\"nombre\":s1,\n",
    "                   \"edad\":s2})"
   ]
  },
  {
   "cell_type": "markdown",
   "id": "5f8e8b8b",
   "metadata": {},
   "source": [
    "Importar y exportar datos."
   ]
  },
  {
   "cell_type": "code",
   "execution_count": null,
   "id": "0fcdc979",
   "metadata": {},
   "outputs": [],
   "source": [
    "df = pd.read_csv(\"netflix_titles.csv\")\n",
    "\n",
    "df.to_excel(\"netflix.xlsx\", index = False)"
   ]
  },
  {
   "cell_type": "markdown",
   "id": "587a3b42",
   "metadata": {},
   "source": [
    "Atributos de los dataframes."
   ]
  },
  {
   "cell_type": "code",
   "execution_count": null,
   "id": "6ef73305",
   "metadata": {},
   "outputs": [],
   "source": [
    "df = pd.read_csv(\"netflix_titles.csv\")\n",
    "\n",
    "df.shape\n",
    "df.dtypes\n",
    "df.columns"
   ]
  },
  {
   "cell_type": "markdown",
   "id": "38b88195",
   "metadata": {},
   "source": [
    "Métodos de los dataframes."
   ]
  },
  {
   "cell_type": "code",
   "execution_count": null,
   "id": "7d5ee002",
   "metadata": {},
   "outputs": [],
   "source": [
    "df = pd.read_csv(\"netflix_titles.csv\")\n",
    "\n",
    "df.describe()\n",
    "df.info()\n",
    "df.head(5)\n",
    "df.tail(5)\n",
    "\n",
    "df.rename(columns = {\"type\":\"tipo\"}) # renombrar columnas"
   ]
  },
  {
   "cell_type": "markdown",
   "id": "64534d0c",
   "metadata": {},
   "source": [
    "Seleccionar en un dataframe."
   ]
  },
  {
   "cell_type": "code",
   "execution_count": null,
   "id": "5a54467c",
   "metadata": {},
   "outputs": [],
   "source": [
    "df = pd.read_csv(\"netflix_titles.csv\")\n",
    "\n",
    "# seleccionar una columna\n",
    "df[\"type\"]\n",
    "\n",
    "# seleccionar múltiples columnas\n",
    "df[[\"type\", \"title\"]]\n",
    "\n",
    "# seleccionar filas y columnas\n",
    "        # filas\n",
    "df.iloc[:10, :]\n",
    "            # columnas"
   ]
  },
  {
   "cell_type": "markdown",
   "id": "a123c089",
   "metadata": {},
   "source": [
    "Agregar columnas a un dataframe."
   ]
  },
  {
   "cell_type": "code",
   "execution_count": null,
   "id": "bfdc7f62",
   "metadata": {},
   "outputs": [],
   "source": [
    "df = pd.read_csv(\"netflix_titles.csv\")\n",
    "\n",
    "df[\"origen\"] = \"csv\" # valores constantes\n",
    "\n",
    "from datetime import datetime\n",
    "df[\"antiguedad\"] = datetime.today().year - df[\"release_year\"] # calculadas"
   ]
  },
  {
   "cell_type": "markdown",
   "id": "734c063b",
   "metadata": {},
   "source": [
    "Eliminar columnas de un dataframe."
   ]
  },
  {
   "cell_type": "code",
   "execution_count": null,
   "id": "e0f504ad",
   "metadata": {},
   "outputs": [],
   "source": [
    "df.drop(\"antiguedad\", axis = 1)"
   ]
  },
  {
   "cell_type": "markdown",
   "id": "93387662",
   "metadata": {},
   "source": [
    "Manejar valores nulos."
   ]
  },
  {
   "cell_type": "code",
   "execution_count": null,
   "id": "b30b596e",
   "metadata": {},
   "outputs": [],
   "source": [
    "df = pd.read_csv(\"netflix_titles.csv\")\n",
    "\n",
    "df.info()\n",
    "\n",
    "df = df.dropna() # remover registros con valores nulos del dataframe\n",
    "df = df.dropna(subset = \"cast\") # remover registros con valores nulos de una columna especifica\n",
    "df = df.dropna(how = \"all\") # remover registros donde todos los valores de cada columna del registro son nulos\n",
    "\n",
    "df = df.fillna(0) # rellenar nulos con un valor específico"
   ]
  },
  {
   "cell_type": "markdown",
   "id": "01c11773",
   "metadata": {},
   "source": [
    "Convertir tipos de datos."
   ]
  },
  {
   "cell_type": "code",
   "execution_count": null,
   "id": "9432a576",
   "metadata": {},
   "outputs": [],
   "source": [
    "df = pd.read_csv(\"netflix_titles.csv\")\n",
    "\n",
    "df[\"release_year\"].astype(str)"
   ]
  },
  {
   "cell_type": "markdown",
   "id": "4b61298c",
   "metadata": {},
   "source": [
    "Filtrar datos."
   ]
  },
  {
   "cell_type": "code",
   "execution_count": null,
   "id": "86c90077",
   "metadata": {},
   "outputs": [],
   "source": [
    "df = pd.read_csv(\"netflix_titles.csv\")\n",
    "\n",
    "# sintáxis\n",
    "\n",
    "        # condición\n",
    "df[df[\"release_year\"] == 2021]\n",
    "\n",
    "df[df[\"release_year\"] != 2021] # diferente que\n",
    "df[df[\"release_year\"] > 2021] # mayor que\n",
    "df[df[\"release_year\"] < 2021] # menor que\n",
    "\n",
    "\n",
    "# operadores lógicos\n",
    "df[(df[\"release_year\"] == 2021) & (df[\"country\"] == \"India\")] # and\n",
    "df[(df[\"release_year\"] == 2021) | (df[\"type\"] == \"Movie\")] # or\n",
    "df[df[\"director\"].isin([\"Rajiv Chilaka\", \"Raúl Campos, Jan Suter\", \"Marcus Raboy\"])] # in\n",
    "df[~df[\"release_year\"] == 2021] # not\n",
    "df[df[\"country\"].isnull()] # filtrar nulos\n",
    "df[df[\"country\"].notnull()] # filtrar no nulos"
   ]
  },
  {
   "cell_type": "markdown",
   "id": "4903ca1a",
   "metadata": {},
   "source": [
    "Manejo de duplicados."
   ]
  },
  {
   "cell_type": "code",
   "execution_count": null,
   "id": "538fa9c6",
   "metadata": {},
   "outputs": [],
   "source": [
    "df = pd.read_csv(\"netflix_titles.csv\")\n",
    "\n",
    "# filtrar duplicados\n",
    "df[df.duplicated()]\n",
    "\n",
    "# eliminar duplicados\n",
    "df.drop_duplicates(subset = [\"director\", \"type\"], keep = \"last\")"
   ]
  },
  {
   "cell_type": "markdown",
   "id": "c45db06c",
   "metadata": {},
   "source": [
    "Iterar en dataframes."
   ]
  },
  {
   "cell_type": "code",
   "execution_count": null,
   "id": "6dc6bd5d",
   "metadata": {},
   "outputs": [],
   "source": [
    "# iterar por columnas\n",
    "for x in df:\n",
    "    print(x)\n",
    "\n",
    "# iterar por filas\n",
    "for x in df.values:\n",
    "    print(x)"
   ]
  },
  {
   "cell_type": "markdown",
   "id": "f38219ed",
   "metadata": {},
   "source": [
    "# Agrupar"
   ]
  },
  {
   "cell_type": "code",
   "execution_count": null,
   "id": "d5f40b09",
   "metadata": {},
   "outputs": [],
   "source": [
    "df = pd.read_csv(\"order_details.csv\")\n",
    "\n",
    "df[\"producto_id\"].value_counts()\n",
    "df[[\"producto_id\", \"cantidad\"]].groupby(\"producto_id\").sum()\n",
    "df[[\"producto_id\", \"precio_unitario\"]].groupby(\"producto_id\").mean()\n",
    "df[[\"producto_id\", \"precio_unitario\"]].groupby(\"producto_id\").min()\n",
    "df[[\"producto_id\", \"precio_unitario\"]].groupby(\"producto_id\").max()\n",
    "\n",
    "df[[\"producto_id\", \"precio_unitario\", \"cantidad\"]].groupby(\"producto_id\").agg({\"cantidad\":\"max\",\n",
    "                                                                               \"precio_unitario\":\"min\"})"
   ]
  },
  {
   "cell_type": "code",
   "execution_count": null,
   "id": "93733767",
   "metadata": {},
   "outputs": [],
   "source": [
    "pd.crosstab(df[\"cliente_id\"], df[\"empleado_id\"]) # tabla dinámica"
   ]
  },
  {
   "cell_type": "markdown",
   "id": "6bc46665",
   "metadata": {},
   "source": [
    "# Merging"
   ]
  },
  {
   "cell_type": "code",
   "execution_count": null,
   "id": "b07db7ce",
   "metadata": {},
   "outputs": [],
   "source": [
    "df_clientes = pd.read_csv(\"customers.csv\")\n",
    "df_ordenes = pd.read_csv(\"orders.csv\")"
   ]
  },
  {
   "cell_type": "code",
   "execution_count": null,
   "id": "b46a3dc2",
   "metadata": {},
   "outputs": [],
   "source": [
    "df_clientes.merge(df_ordenes, left_on = [\"cliente_id\"], right_on = [\"cliente_id\"], how = \"inner\")\n",
    "df_clientes.merge(df_ordenes, left_on = [\"cliente_id\"], right_on = [\"cliente_id\"], how = \"left\")\n",
    "df_clientes.merge(df_ordenes, left_on = [\"cliente_id\"], right_on = [\"cliente_id\"], how = \"right\")\n",
    "df_clientes.merge(df_ordenes, left_on = [\"cliente_id\"], right_on = [\"cliente_id\"], how = \"outer\")"
   ]
  },
  {
   "cell_type": "markdown",
   "id": "4f47cd53",
   "metadata": {},
   "source": [
    "# Visualización"
   ]
  },
  {
   "cell_type": "code",
   "execution_count": 66,
   "id": "756f5f95",
   "metadata": {},
   "outputs": [],
   "source": [
    "import pandas as pd\n",
    "import matplotlib.pyplot as plt"
   ]
  },
  {
   "cell_type": "markdown",
   "id": "29e7d9da",
   "metadata": {},
   "source": [
    "Gráfico de barras."
   ]
  },
  {
   "cell_type": "code",
   "execution_count": 74,
   "id": "301aed12",
   "metadata": {},
   "outputs": [
    {
     "data": {
      "image/png": "[encoded data removed]",
      "text/plain": [
       "<Figure size 640x480 with 1 Axes>"
      ]
     },
     "metadata": {},
     "output_type": "display_data"
    }
   ],
   "source": [
    "df = pd.read_csv(\"order_details.csv\")\n",
    "df = df[df[\"producto_id\"].isin([11, 12, 13, 14, 15])]\n",
    "df = df[[\"producto_id\", \"precio_unitario\"]].groupby(\"producto_id\").sum().reset_index()\n",
    "df.plot.bar(x = \"producto_id\", y = \"precio_unitario\")\n",
    "plt.show()"
   ]
  },
  {
   "cell_type": "markdown",
   "id": "6faf9f8a",
   "metadata": {},
   "source": [
    "Histograma."
   ]
  },
  {
   "cell_type": "code",
   "execution_count": 75,
   "id": "a9d95607",
   "metadata": {},
   "outputs": [
    {
     "data": {
      "image/png": "[encoded data removed]",
      "text/plain": [
       "<Figure size 640x480 with 1 Axes>"
      ]
     },
     "metadata": {},
     "output_type": "display_data"
    }
   ],
   "source": [
    "df = pd.read_csv(\"order_details.csv\")\n",
    "df[\"cantidad\"].plot.hist()\n",
    "plt.show()"
   ]
  },
  {
   "cell_type": "markdown",
   "id": "2388ff13",
   "metadata": {},
   "source": [
    "Gráfico de linea."
   ]
  },
  {
   "cell_type": "code",
   "execution_count": 89,
   "id": "548cf9ad",
   "metadata": {},
   "outputs": [
    {
     "data": {
      "image/png": "[encoded data removed]",
      "text/plain": [
       "<Figure size 640x480 with 1 Axes>"
      ]
     },
     "metadata": {},
     "output_type": "display_data"
    }
   ],
   "source": [
    "df = pd.read_csv(\"netflix_titles.csv\")\n",
    "df = df[\"release_year\"].value_counts().to_frame().reset_index()\n",
    "\n",
    "df.plot(x = \"release_year\", y = \"count\")\n",
    "plt.show()"
   ]
  },
  {
   "cell_type": "markdown",
   "id": "830cbe15",
   "metadata": {},
   "source": [
    "Boxplot"
   ]
  },
  {
   "cell_type": "code",
   "execution_count": 94,
   "id": "433c208c",
   "metadata": {},
   "outputs": [
    {
     "data": {
      "image/png": "[encoded data removed]",
      "text/plain": [
       "<Figure size 640x480 with 1 Axes>"
      ]
     },
     "metadata": {},
     "output_type": "display_data"
    }
   ],
   "source": [
    "df = pd.read_csv(\"order_details.csv\")\n",
    "\n",
    "df[[\"cantidad\"]].plot.box()\n",
    "\n",
    "plt.show()"
   ]
  }
 ],
 "metadata": {
  "kernelspec": {
   "display_name": "base",
   "language": "python",
   "name": "python3"
  },
  "language_info": {
   "codemirror_mode": {
    "name": "ipython",
    "version": 3
   },
   "file_extension": ".py",
   "mimetype": "text/x-python",
   "name": "python",
   "nbconvert_exporter": "python",
   "pygments_lexer": "ipython3",
   "version": "3.12.7"
  }
 },
 "nbformat": 4,
 "nbformat_minor": 5
}
